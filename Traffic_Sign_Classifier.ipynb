{
 "cells": [
  {
   "cell_type": "markdown",
   "metadata": {},
   "source": [
    "# Project: Traffic Sign Recognition Classifier\n",
    "\n",
    "In this project, I use convolutional neural network to classify traffic signs. Specifically, I train a model to classify traffic signs from the German Traffic Sign [Dataset](http://benchmark.ini.rub.de/?section=gtsrb&subsection=dataset).\n",
    "There are lots of different neural networks frameworks available. I used TensorFlow as I already had some experience with it. The model was trained on GPU. The TensorFlow instructions for installing TensorFlow with GPU support you can find [here](https://www.tensorflow.org/install/#optional_install_cuda_gpus_on_linux)."
   ]
  },
  {
   "cell_type": "markdown",
   "metadata": {},
   "source": [
    "---\n",
    "## Step 1: Load The Data\n",
    "To download Datased please [click](https://s3-us-west-1.amazonaws.com/udacity-selfdrivingcar/traffic-signs-data.zip). This is a pickled dataset resized to 32x32."
   ]
  },
  {
   "cell_type": "code",
   "execution_count": null,
   "metadata": {},
   "outputs": [],
   "source": [
    "# Load pickled data\n",
    "import pickle\n",
    "\n",
    "# Training, validation and testing data are saved on this files\n",
    "training_file = 'train.p'\n",
    "validation_file= 'valid.p'\n",
    "testing_file = 'test.p'\n",
    "\n",
    "with open(training_file, mode='rb') as f:\n",
    "    train = pickle.load(f)\n",
    "with open(validation_file, mode='rb') as f:\n",
    "    valid = pickle.load(f)\n",
    "with open(testing_file, mode='rb') as f:\n",
    "    test = pickle.load(f)"
   ]
  },
  {
   "cell_type": "code",
   "execution_count": 2,
   "metadata": {
    "collapsed": true
   },
   "outputs": [],
   "source": [
    "X_train, y_train = train['features'], train['labels']\n",
    "X_valid, y_valid = valid['features'], valid['labels']\n",
    "X_test, y_test = test['features'], test['labels']"
   ]
  },
  {
   "cell_type": "markdown",
   "metadata": {},
   "source": [
    "---\n",
    "\n",
    "## Step 1: Dataset Summary & Exploration\n",
    "\n",
    "The pickled data is a dictionary with 4 key/value pairs:\n",
    "\n",
    "- `'features'` is a 4D array containing raw pixel data of the traffic sign images, (num examples, width, height, channels).\n",
    "- `'labels'` is a 1D array containing the label/class id of the traffic sign. The file `signnames.csv` contains id -> name mappings for each id.\n",
    "- `'sizes'` is a list containing tuples, (width, height) representing the original width and height the image.\n",
    "- `'coords'` is a list containing tuples, (x1, y1, x2, y2) representing coordinates of a bounding box around the sign in the image. **THESE COORDINATES ASSUME THE ORIGINAL IMAGE. THE PICKLED DATA CONTAINS RESIZED VERSIONS (32 by 32) OF THESE IMAGES**"
   ]
  },
  {
   "cell_type": "markdown",
   "metadata": {},
   "source": [
    "### Basic Summary of the Data Set Using Python, Numpy and/or Pandas"
   ]
  },
  {
   "cell_type": "code",
   "execution_count": 3,
   "metadata": {},
   "outputs": [
    {
     "name": "stdout",
     "output_type": "stream",
     "text": [
      "Number of training examples = 34799\n",
      "Number of validation examples = 4410\n",
      "Number of testing examples = 12630\n",
      "Image data shape = (32, 32, 3)\n",
      "Number of classes = 43\n"
     ]
    }
   ],
   "source": [
    "import numpy as np\n",
    "\n",
    "# Number of training examples\n",
    "n_train = X_train.shape[0]\n",
    "\n",
    "# Number of validation examples.\n",
    "n_valid = X_valid.shape[0]\n",
    "\n",
    "# Number of testing examples.\n",
    "n_test = X_test.shape[0]\n",
    "\n",
    "# What's the shape of an traffic sign image?\n",
    "image_shape = X_train[0].shape\n",
    "\n",
    "# How many unique classes/labels there are in the dataset.\n",
    "n_classes = np.unique(y_train).shape[0]\n",
    "\n",
    "print(\"Number of training examples =\", n_train)\n",
    "print(\"Number of validation examples =\", n_valid)\n",
    "print(\"Number of testing examples =\", n_test)\n",
    "print(\"Image data shape =\", image_shape)\n",
    "print(\"Number of classes =\", n_classes)"
   ]
  },
  {
   "cell_type": "markdown",
   "metadata": {},
   "source": [
    "### Exploratory dataset visualization"
   ]
  },
  {
   "cell_type": "markdown",
   "metadata": {},
   "source": [
    "Visualize the German Traffic Signs Dataset using the pickled file(s). Plotting random traffic sign images and its count."
   ]
  },
  {
   "cell_type": "code",
   "execution_count": 4,
   "metadata": {},
   "outputs": [
    {
     "name": "stdout",
     "output_type": "stream",
     "text": [
      "Train observation #: 28188    label: 12\n"
     ]
    },
    {
     "data": {
      "image/png": "[encoded data removed]",
      "text/plain": [
       "<matplotlib.figure.Figure at 0x7faf16de0198>"
      ]
     },
     "metadata": {},
     "output_type": "display_data"
    }
   ],
   "source": [
    "import matplotlib.pyplot as plt\n",
    "# Visualizations will be shown in the notebook.\n",
    "%matplotlib inline\n",
    "import random\n",
    "\n",
    "index = random.randint(0, n_train)\n",
    "image = X_train[index]\n",
    "\n",
    "plt.figure(figsize=(3,3))\n",
    "plt.imshow(image)\n",
    "print(\"Train observation #: {}    label: {}\".format(index, y_train[index]))"
   ]
  },
  {
   "cell_type": "code",
   "execution_count": 5,
   "metadata": {
    "scrolled": false
   },
   "outputs": [
    {
     "name": "stdout",
     "output_type": "stream",
     "text": [
      "Trafic signs summary statistics:\n",
      "count      43.0\n",
      "mean      809.0\n",
      "std       627.0\n",
      "min       180.0\n",
      "50%       540.0\n",
      "max      2010.0\n",
      "Name: Trafic Signs, dtype: float64\n"
     ]
    },
    {
     "data": {
      "image/png": "[encoded data removed]",
      "text/plain": [
       "<matplotlib.figure.Figure at 0x7faf059d2278>"
      ]
     },
     "metadata": {},
     "output_type": "display_data"
    }
   ],
   "source": [
    "import pandas as pd\n",
    "d = pd.DataFrame(y_train, columns=['Trafic Signs'])\n",
    "#d.hist()\n",
    "grouped = d.groupby(['Trafic Signs'])['Trafic Signs'].count()\n",
    "d.hist(bins=43)\n",
    "print('Trafic signs summary statistics:\\n{}'.format(round(grouped.describe(percentiles=[]),0)))"
   ]
  },
  {
   "cell_type": "markdown",
   "metadata": {},
   "source": [
    "----\n",
    "\n",
    "## Step 2: Design and Test a Model Architecture\n",
    "\n",
    "Design and implementation of a deep learning model to recognize traffic signs.\n",
    "\n",
    "The LeNet-5 implementation shown as a solid starting point. I have changed the number of classes and preprocessing steps, but aside from that it's plug and play!\n",
    "\n",
    "With the LeNet-5 solution I got a validation set accuracy of 0.946 and a test set accuracy of 0.942.\n",
    "\n",
    "There are various aspects to consider when thinking about this problem:\n",
    "\n",
    "- Neural network architecture (is the network over or underfitting?)\n",
    "- Ppreprocessing techniques (normalization, rgb to grayscale, etc)\n",
    "- Number of examples per label (some have more than others)\n",
    "- Data augmentation - to generate fake data"
   ]
  },
  {
   "cell_type": "markdown",
   "metadata": {},
   "source": [
    "### Pre-process the Data Set (normalization, grayscale, etc.)"
   ]
  },
  {
   "cell_type": "code",
   "execution_count": 6,
   "metadata": {},
   "outputs": [
    {
     "data": {
      "text/plain": [
       "<matplotlib.image.AxesImage at 0x7faef6e92d30>"
      ]
     },
     "execution_count": 6,
     "metadata": {},
     "output_type": "execute_result"
    },
    {
     "data": {
      "image/png": "[encoded data removed]",
      "text/plain": [
       "<matplotlib.figure.Figure at 0x7faf13181080>"
      ]
     },
     "metadata": {},
     "output_type": "display_data"
    }
   ],
   "source": [
    "import cv2\n",
    "\n",
    "def preProc1(image, kernel_size = 1):\n",
    "    image = cv2.cvtColor(image,cv2.COLOR_RGB2GRAY)\n",
    "    #image = cv2.GaussianBlur(gray,(kernel_size, kernel_size), 0)\n",
    "    return image\n",
    "\n",
    "def preProc2(image):\n",
    "    return ((image - 128.0)/128.0)\n",
    "\n",
    "def preProc3(image):\n",
    "    return image / 255.0\n",
    "\n",
    "\n",
    "example1 = image.squeeze()\n",
    "example2 = preProc2(preProc1(image)).squeeze()\n",
    "example3 = preProc3(preProc1(image)).squeeze()\n",
    "example4 = preProc2(image).squeeze()\n",
    "example5 = preProc3(image).squeeze()\n",
    "\n",
    "# Three subplots sharing both x/y axes\n",
    "\n",
    "f, (ax1, ax2, ax3, ax4, ax5) = plt.subplots(1, 5, figsize=(15,3))\n",
    "ax1.imshow(example1)\n",
    "ax2.imshow(example2, cmap='gray')\n",
    "ax3.imshow(example3, cmap='gray')\n",
    "ax4.imshow(example4)\n",
    "ax5.imshow(example5)"
   ]
  },
  {
   "cell_type": "markdown",
   "metadata": {},
   "source": [
    "I tried different preprocessing and finally choose preProc1()"
   ]
  },
  {
   "cell_type": "code",
   "execution_count": 7,
   "metadata": {
    "scrolled": false
   },
   "outputs": [
    {
     "data": {
      "text/plain": [
       "(32, 32)"
      ]
     },
     "execution_count": 7,
     "metadata": {},
     "output_type": "execute_result"
    },
    {
     "data": {
      "image/png": "[encoded data removed]",
      "text/plain": [
       "<matplotlib.figure.Figure at 0x7faf131eb710>"
      ]
     },
     "metadata": {},
     "output_type": "display_data"
    }
   ],
   "source": [
    "# Apply preprocessin on all features\n",
    "X_train_p = np.array([preProc3(preProc1(x)).reshape((32,32,1)) for x in X_train])\n",
    "X_valid_p = np.array([preProc3(preProc1(x)).reshape((32,32,1)) for x in X_valid])\n",
    "X_test_p  = np.array([preProc3(preProc1(x)).reshape((32,32,1)) for x in X_test])\n",
    "\n",
    "#X_train_p = np.array([preProc2((x)) for x in X_train])\n",
    "#X_valid_p = np.array([preProc2((x)) for x in X_valid])\n",
    "#X_test_p  = np.array([preProc2((x)) for x in X_test])\n",
    "\n",
    "#X_train_p = X_train\n",
    "#X_valid_p = X_valid\n",
    "#X_test_p  = X_test\n",
    "\n",
    "example = X_train_p[index].squeeze()\n",
    "plt.imshow(example, cmap='gray')\n",
    "example.shape"
   ]
  },
  {
   "cell_type": "code",
   "execution_count": 8,
   "metadata": {},
   "outputs": [],
   "source": [
    "# Apply preprocessin on all labels\n",
    "from sklearn.preprocessing import OneHotEncoder\n",
    "\n",
    "y_train_o = y_train.reshape((y_train.shape[0],1))\n",
    "y_valid_o = y_valid.reshape((y_valid.shape[0],1))\n",
    "y_test_o  = y_test.reshape( (y_test.shape[0],1) )\n",
    "\n",
    "one = OneHotEncoder()\n",
    "one.fit(y_train_o)\n",
    "y_train_o = one.transform(y_train_o).toarray()\n",
    "y_valid_o = one.transform(y_valid_o).toarray()\n",
    "y_test_o  = one.transform(y_test_o ).toarray()"
   ]
  },
  {
   "cell_type": "code",
   "execution_count": 9,
   "metadata": {
    "collapsed": true
   },
   "outputs": [],
   "source": [
    "# Shuffle training data\n",
    "from sklearn.utils import shuffle\n",
    "\n",
    "X_train_p, y_train_o = shuffle(X_train_p, y_train_o)"
   ]
  },
  {
   "cell_type": "markdown",
   "metadata": {},
   "source": [
    "### Model Architecture"
   ]
  },
  {
   "cell_type": "code",
   "execution_count": 10,
   "metadata": {
    "collapsed": true
   },
   "outputs": [],
   "source": [
    "# The EPOCH and BATCH_SIZE values affect the training speed and model accuracy.\n",
    "\n",
    "import tensorflow as tf\n",
    "\n",
    "EPOCHS = 35\n",
    "BATCH_SIZE = 128"
   ]
  },
  {
   "cell_type": "code",
   "execution_count": 11,
   "metadata": {
    "collapsed": true
   },
   "outputs": [],
   "source": [
    "### Model architecture.\n",
    "\n",
    "from tensorflow.contrib.layers import flatten\n",
    "\n",
    "def LeNet(x):    \n",
    "    # Arguments used for tf.truncated_normal, randomly defines variables for the weights and biases for each layer\n",
    "    mu = 0\n",
    "    sigma = 0.1\n",
    "    \n",
    "    # Layer 1: Convolutional. Input = 32x32x1. Output = 30x30x10.\n",
    "    conv1_W = tf.Variable(tf.truncated_normal(shape=(3, 3, 1, 10), mean = mu, stddev = sigma))\n",
    "    conv1_b = tf.Variable(tf.zeros(10))\n",
    "    conv1   = tf.nn.conv2d(x, conv1_W, strides=[1, 1, 1, 1], padding='VALID') + conv1_b\n",
    "\n",
    "    # Activation.\n",
    "    conv1 = tf.nn.relu(conv1)\n",
    "\n",
    "    # Pooling. Input = 30x30x10. Output = 15x15x10.\n",
    "    conv1 = tf.nn.max_pool(conv1, ksize=[1, 2, 2, 1], strides=[1, 2, 2, 1], padding='VALID')\n",
    "    \n",
    "    # Layer 2: Convolutional. Output = 12x12x30.\n",
    "    conv2_W = tf.Variable(tf.truncated_normal(shape=(4, 4, 10, 30), mean = mu, stddev = sigma))\n",
    "    conv2_b = tf.Variable(tf.zeros(30))\n",
    "    conv2   = tf.nn.conv2d(conv1, conv2_W, strides=[1, 1, 1, 1], padding='VALID') + conv2_b\n",
    "    \n",
    "    # Activation.\n",
    "    conv2 = tf.nn.relu(conv2)\n",
    "\n",
    "    # Pooling. Input = 12x12x30. Output = 6x6x30.\n",
    "    conv2 = tf.nn.max_pool(conv2, ksize=[1, 2, 2, 1], strides=[1, 2, 2, 1], padding='VALID')\n",
    "    \n",
    "    conv2 = tf.nn.dropout(conv2, keep_prob)\n",
    "\n",
    "    # Flatten. Input = 6x6x30. Output = 1080.\n",
    "    fc0   = flatten(conv2)\n",
    "    \n",
    "    # Layer 3: Fully Connected. Input = 1080. Output = 270.\n",
    "    fc1_W = tf.Variable(tf.truncated_normal(shape=(1080, 270), mean = mu, stddev = sigma))\n",
    "    fc1_b = tf.Variable(tf.zeros(270))\n",
    "    fc1   = tf.matmul(fc0, fc1_W) + fc1_b\n",
    "    \n",
    "    # Activation.\n",
    "    fc1    = tf.nn.relu(fc1)\n",
    "\n",
    "    # Layer 4: Fully Connected. Input = 270. Output = 129.\n",
    "    fc2_W  = tf.Variable(tf.truncated_normal(shape=(270, 129), mean = mu, stddev = sigma))\n",
    "    fc2_b  = tf.Variable(tf.zeros(129))\n",
    "    fc2    = tf.matmul(fc1, fc2_W) + fc2_b\n",
    "    \n",
    "    # Activation.\n",
    "    fc2    = tf.nn.relu(fc2)\n",
    "\n",
    "    # Layer 5: Fully Connected. Input = 129. Output = 43.\n",
    "    fc3_W  = tf.Variable(tf.truncated_normal(shape=(129, 43), mean = mu, stddev = sigma))\n",
    "    fc3_b  = tf.Variable(tf.zeros(43))\n",
    "    logits = tf.matmul(fc2, fc3_W) + fc3_b\n",
    "    \n",
    "    return logits"
   ]
  },
  {
   "cell_type": "markdown",
   "metadata": {},
   "source": [
    "### Train, Validate and Test the Model"
   ]
  },
  {
   "cell_type": "markdown",
   "metadata": {},
   "source": [
    "A validation set used to assess how well the model is performing. A low accuracy on the training and validation\n",
    "sets imply underfitting. A high accuracy on the training set but low accuracy on the validation set implies overfitting."
   ]
  },
  {
   "cell_type": "code",
   "execution_count": 12,
   "metadata": {},
   "outputs": [],
   "source": [
    "### Train the model.\n",
    "\n",
    "# x is a placeholder for a batch of input images. one_hot_y is a placeholder for a batch of output labels .\n",
    "x = tf.placeholder(tf.float32, (None, 32, 32, 1))\n",
    "y = tf.placeholder(tf.int32, (None,43))\n",
    "keep_prob = tf.placeholder(tf.float32) # probability to keep units"
   ]
  },
  {
   "cell_type": "code",
   "execution_count": 13,
   "metadata": {},
   "outputs": [],
   "source": [
    "# A training pipeline that uses the model to classify data.\n",
    "rate = 0.001\n",
    "\n",
    "logits = LeNet(x)\n",
    "cross_entropy = tf.nn.softmax_cross_entropy_with_logits(logits, y)\n",
    "loss_operation = tf.reduce_mean(cross_entropy)\n",
    "optimizer = tf.train.AdamOptimizer(learning_rate = rate)\n",
    "training_operation = optimizer.minimize(loss_operation)"
   ]
  },
  {
   "cell_type": "code",
   "execution_count": 14,
   "metadata": {
    "collapsed": true
   },
   "outputs": [],
   "source": [
    "# Evaluate how well the loss and accuracy of the model for a given dataset.\n",
    "correct_prediction = tf.equal(tf.argmax(logits, 1), tf.argmax(y, 1))\n",
    "accuracy_operation = tf.reduce_mean(tf.cast(correct_prediction, tf.float32))\n",
    "saver = tf.train.Saver()\n",
    "\n",
    "def evaluate(X_data, y_data):\n",
    "    num_examples = len(X_data)\n",
    "    total_accuracy = 0\n",
    "    sess = tf.get_default_session()\n",
    "    for offset in range(0, num_examples, BATCH_SIZE):\n",
    "        batch_x, batch_y = X_data[offset:offset+BATCH_SIZE], y_data[offset:offset+BATCH_SIZE]\n",
    "        accuracy = sess.run(accuracy_operation, feed_dict={x: batch_x, y: batch_y, keep_prob: 1.0})\n",
    "        total_accuracy += (accuracy * len(batch_x))\n",
    "    return total_accuracy / num_examples"
   ]
  },
  {
   "cell_type": "markdown",
   "metadata": {},
   "source": [
    "Here you can the following steps:\n",
    "\n",
    "* Run the training data through the training pipeline to train the model.\n",
    "* Shuffle the training set before each epoch\n",
    "* After each epoch, measure the loss and accuracy of the validation set.\n",
    "* Save the model after training."
   ]
  },
  {
   "cell_type": "code",
   "execution_count": 15,
   "metadata": {},
   "outputs": [
    {
     "name": "stdout",
     "output_type": "stream",
     "text": [
      "Training...\n",
      "\n",
      "EPOCH 1 ...\n",
      "Validation Accuracy = 0.711\n",
      "\n",
      "EPOCH 2 ...\n",
      "Validation Accuracy = 0.848\n",
      "\n",
      "EPOCH 3 ...\n",
      "Validation Accuracy = 0.894\n",
      "\n",
      "EPOCH 4 ...\n",
      "Validation Accuracy = 0.896\n",
      "\n",
      "EPOCH 5 ...\n",
      "Validation Accuracy = 0.916\n",
      "\n",
      "EPOCH 6 ...\n",
      "Validation Accuracy = 0.899\n",
      "\n",
      "EPOCH 7 ...\n",
      "Validation Accuracy = 0.917\n",
      "\n",
      "EPOCH 8 ...\n",
      "Validation Accuracy = 0.921\n",
      "\n",
      "EPOCH 9 ...\n",
      "Validation Accuracy = 0.929\n",
      "\n",
      "EPOCH 10 ...\n",
      "Validation Accuracy = 0.929\n",
      "\n",
      "EPOCH 11 ...\n",
      "Validation Accuracy = 0.932\n",
      "\n",
      "EPOCH 12 ...\n",
      "Validation Accuracy = 0.935\n",
      "\n",
      "EPOCH 13 ...\n",
      "Validation Accuracy = 0.929\n",
      "\n",
      "EPOCH 14 ...\n",
      "Validation Accuracy = 0.937\n",
      "\n",
      "EPOCH 15 ...\n",
      "Validation Accuracy = 0.935\n",
      "\n",
      "EPOCH 16 ...\n",
      "Validation Accuracy = 0.948\n",
      "\n",
      "EPOCH 17 ...\n",
      "Validation Accuracy = 0.936\n",
      "\n",
      "EPOCH 18 ...\n",
      "Validation Accuracy = 0.946\n",
      "\n",
      "EPOCH 19 ...\n",
      "Validation Accuracy = 0.934\n",
      "\n",
      "EPOCH 20 ...\n",
      "Validation Accuracy = 0.943\n",
      "\n",
      "EPOCH 21 ...\n",
      "Validation Accuracy = 0.946\n",
      "\n",
      "EPOCH 22 ...\n",
      "Validation Accuracy = 0.954\n",
      "\n",
      "EPOCH 23 ...\n",
      "Validation Accuracy = 0.939\n",
      "\n",
      "EPOCH 24 ...\n",
      "Validation Accuracy = 0.942\n",
      "\n",
      "EPOCH 25 ...\n",
      "Validation Accuracy = 0.945\n",
      "\n",
      "EPOCH 26 ...\n",
      "Validation Accuracy = 0.947\n",
      "\n",
      "EPOCH 27 ...\n",
      "Validation Accuracy = 0.943\n",
      "\n",
      "EPOCH 28 ...\n",
      "Validation Accuracy = 0.942\n",
      "\n",
      "EPOCH 29 ...\n",
      "Validation Accuracy = 0.951\n",
      "\n",
      "EPOCH 30 ...\n",
      "Validation Accuracy = 0.946\n",
      "\n",
      "EPOCH 31 ...\n",
      "Validation Accuracy = 0.946\n",
      "\n",
      "EPOCH 32 ...\n",
      "Validation Accuracy = 0.944\n",
      "\n",
      "EPOCH 33 ...\n",
      "Validation Accuracy = 0.942\n",
      "\n",
      "EPOCH 34 ...\n",
      "Validation Accuracy = 0.948\n",
      "\n",
      "EPOCH 35 ...\n",
      "Validation Accuracy = 0.946\n",
      "\n",
      "Model saved\n"
     ]
    }
   ],
   "source": [
    "with tf.Session() as sess:\n",
    "    sess.run(tf.global_variables_initializer())\n",
    "    num_examples = len(X_train)\n",
    "    \n",
    "    print(\"Training...\")\n",
    "    print()\n",
    "    for i in range(EPOCHS):\n",
    "        X_train_p, y_train_o = shuffle(X_train_p, y_train_o)\n",
    "        for offset in range(0, num_examples, BATCH_SIZE):\n",
    "            end = offset + BATCH_SIZE\n",
    "            batch_x, batch_y = X_train_p[offset:end], y_train_o[offset:end]\n",
    "            sess.run(training_operation, feed_dict={x: batch_x, y: batch_y, keep_prob: 0.5})\n",
    "            \n",
    "        validation_accuracy = evaluate(X_valid_p, y_valid_o)\n",
    "        print(\"EPOCH {} ...\".format(i+1))\n",
    "        print(\"Validation Accuracy = {:.3f}\".format(validation_accuracy))\n",
    "        print()\n",
    "        \n",
    "    saver.save(sess, './lenet')\n",
    "    print(\"Model saved\")"
   ]
  },
  {
   "cell_type": "code",
   "execution_count": 16,
   "metadata": {
    "scrolled": true
   },
   "outputs": [
    {
     "name": "stdout",
     "output_type": "stream",
     "text": [
      "Test Accuracy = 0.942\n"
     ]
    }
   ],
   "source": [
    "# model performance evaluation On the test set.\n",
    "with tf.Session() as sess:\n",
    "    saver.restore(sess, tf.train.latest_checkpoint('.'))\n",
    "\n",
    "    test_accuracy = evaluate(X_test_p, y_test_o)\n",
    "    print(\"Test Accuracy = {:.3f}\".format(test_accuracy))"
   ]
  },
  {
   "cell_type": "markdown",
   "metadata": {},
   "source": [
    "---\n",
    "\n",
    "## Step 3: Test a Model on New Images\n",
    "\n",
    "To have more insight how model works, I downloaded at several pictures of German traffic signs from the web and used the model to predict the traffic sign type.\n",
    "\n",
    "File `signnames.csv` contains mappings from the class id (integer) to the actual sign name."
   ]
  },
  {
   "cell_type": "markdown",
   "metadata": {},
   "source": [
    "### Load and Output the Images"
   ]
  },
  {
   "cell_type": "code",
   "execution_count": null,
   "metadata": {},
   "outputs": [],
   "source": [
    "# helper function for image downloading\n",
    "\n",
    "from PIL import Image\n",
    "import requests\n",
    "\n",
    "def download_image(url):\n",
    "    im = Image.open(requests.get(url, stream=True).raw)\n",
    "    return np.array(im)"
   ]
  },
  {
   "cell_type": "code",
   "execution_count": 18,
   "metadata": {},
   "outputs": [],
   "source": [
    "# test images from the web\n",
    "links = [\n",
    "    'http://previews.123rf.com/images/mygrafics/mygrafics1109/mygrafics110900301/10647917-traffic-signs-Stock-Vector-speed-sign.jpg',\n",
    "    'https://simonehr.files.wordpress.com/2013/11/stopsign.jpg',\n",
    "    'http://bicyclegermany.com/Images/Laws/Arterial.jpg',\n",
    "    'http://i.dailymail.co.uk/i/pix/2016/05/08/09/33F2DCE500000578-3579315-image-a-19_1462696012816.jpg',\n",
    "    'https://upload.wikimedia.org/wikipedia/commons/thumb/3/36/Australian_60kmh_speed_limit_sign.jpg/800px-Australian_60kmh_speed_limit_sign.jpg'\n",
    "]\n",
    "all_5 = [download_image(link) for link in links]\n",
    "all_5_reshape = [im.reshape([1] + list(im.shape)) for im in all_5]"
   ]
  },
  {
   "cell_type": "code",
   "execution_count": 19,
   "metadata": {},
   "outputs": [],
   "source": [
    "# resize images\n",
    "with tf.Session() as sess:\n",
    "    output = [sess.run(tf.image.resize_nearest_neighbor(images = im, size = (32, 32))) for im in all_5_reshape]"
   ]
  },
  {
   "cell_type": "markdown",
   "metadata": {},
   "source": [
    "Here you can see downloaded pictures:"
   ]
  },
  {
   "cell_type": "code",
   "execution_count": 20,
   "metadata": {
    "scrolled": true
   },
   "outputs": [
    {
     "data": {
      "image/png": "[encoded data removed]",
      "text/plain": [
       "<matplotlib.figure.Figure at 0x7faedf08c160>"
      ]
     },
     "metadata": {},
     "output_type": "display_data"
    }
   ],
   "source": [
    "f, ax = plt.subplots(1, 5, figsize=(15,3))\n",
    "for i in range(5):\n",
    "    ax[i].imshow(output[i][0])"
   ]
  },
  {
   "cell_type": "markdown",
   "metadata": {},
   "source": [
    "Apply preprocessin on 5 test images"
   ]
  },
  {
   "cell_type": "code",
   "execution_count": null,
   "metadata": {},
   "outputs": [],
   "source": [
    "X_5 = np.array([preProc3(preProc1(output[i][0])).reshape((32,32,1)) for i in range(5)])\n",
    "Labels_5 = [0, 14, 12, 28, 3]\n",
    "example = X_5[1].squeeze()\n",
    "plt.imshow(example, cmap='gray')\n",
    "example.shape"
   ]
  },
  {
   "cell_type": "markdown",
   "metadata": {},
   "source": [
    "### Predict the Sign Type for Each Image"
   ]
  },
  {
   "cell_type": "code",
   "execution_count": 22,
   "metadata": {
    "collapsed": true
   },
   "outputs": [],
   "source": [
    "def Prediction(X_data):\n",
    "    sess = tf.get_default_session()\n",
    "    pred = sess.run(tf.argmax(logits, 1), feed_dict={x: X_data, keep_prob: 1.0})\n",
    "    return pred\n",
    "\n",
    "with tf.Session() as sess:\n",
    "    saver.restore(sess, tf.train.latest_checkpoint('.'))\n",
    "    pred = Prediction(X_5)"
   ]
  },
  {
   "cell_type": "markdown",
   "metadata": {},
   "source": [
    "### Analyze Performance"
   ]
  },
  {
   "cell_type": "code",
   "execution_count": 23,
   "metadata": {},
   "outputs": [
    {
     "name": "stdout",
     "output_type": "stream",
     "text": [
      "Prediction accuracy on 5 images is 100.0%\n"
     ]
    }
   ],
   "source": [
    "# The accuracy for these 5 new images. \n",
    "print(\"Prediction accuracy on 5 images is {}%\".format(np.average(pred == Labels_5)*100))"
   ]
  },
  {
   "cell_type": "markdown",
   "metadata": {},
   "source": [
    "### Top 5 Softmax Probabilities For Each Image Found on the Web"
   ]
  },
  {
   "cell_type": "markdown",
   "metadata": {},
   "source": [
    "For each of the new images I printed out the model's softmax probabilities to show the **certainty** of the model's predictions (the output is limited up to top 5 probabilities for each image). [`tf.nn.top_k`](https://www.tensorflow.org/versions/r0.12/api_docs/python/nn.html#top_k) could prove helpful here. \n",
    "\n",
    "The example below demonstrates how tf.nn.top_k can be used to find the top k predictions for each image.\n",
    "\n",
    "`tf.nn.top_k` will return the values and indices (class ids) of the top k predictions. So if k=3, for each sign, it'll return the 3 largest probabilities (out of a possible 43) and the correspoding class ids.\n",
    "\n",
    "Lets consider the following numpy array as an example. The values in the array represent predictions. The array contains softmax probabilities for five candidate images with six possible classes. `tk.nn.top_k` is used to choose the three classes with the highest probability:\n",
    "\n",
    "```\n",
    "# (5, 6) array\n",
    "a = np.array([[ 0.24879643,  0.07032244,  0.12641572,  0.34763842,  0.07893497,\n",
    "         0.12789202],\n",
    "       [ 0.28086119,  0.27569815,  0.08594638,  0.0178669 ,  0.18063401,\n",
    "         0.15899337],\n",
    "       [ 0.26076848,  0.23664738,  0.08020603,  0.07001922,  0.1134371 ,\n",
    "         0.23892179],\n",
    "       [ 0.11943333,  0.29198961,  0.02605103,  0.26234032,  0.1351348 ,\n",
    "         0.16505091],\n",
    "       [ 0.09561176,  0.34396535,  0.0643941 ,  0.16240774,  0.24206137,\n",
    "         0.09155967]])\n",
    "```\n",
    "\n",
    "Running it through `sess.run(tf.nn.top_k(tf.constant(a), k=3))` produces:\n",
    "\n",
    "```\n",
    "TopKV2(values=array([[ 0.34763842,  0.24879643,  0.12789202],\n",
    "       [ 0.28086119,  0.27569815,  0.18063401],\n",
    "       [ 0.26076848,  0.23892179,  0.23664738],\n",
    "       [ 0.29198961,  0.26234032,  0.16505091],\n",
    "       [ 0.34396535,  0.24206137,  0.16240774]]), indices=array([[3, 0, 5],\n",
    "       [0, 1, 4],\n",
    "       [0, 5, 1],\n",
    "       [1, 3, 5],\n",
    "       [1, 4, 3]], dtype=int32))\n",
    "```\n",
    "\n",
    "Looking just at the first row we get `[ 0.34763842,  0.24879643,  0.12789202]` - the 3 largest probabilities in `a` and `[3, 0, 5]` are the corresponding indices."
   ]
  },
  {
   "cell_type": "code",
   "execution_count": 26,
   "metadata": {},
   "outputs": [
    {
     "name": "stdout",
     "output_type": "stream",
     "text": [
      "Top 5 Probabilities for the prediciton: \n",
      "\n",
      " [[ 1.          0.          0.          0.          0.        ]\n",
      " [ 1.          0.          0.          0.          0.        ]\n",
      " [ 1.          0.          0.          0.          0.        ]\n",
      " [ 1.          0.          0.          0.          0.        ]\n",
      " [ 0.81999999  0.07        0.06        0.02        0.01      ]] \n",
      "\n",
      " Top 5 labels for the prediction: \n",
      "\n",
      " [[ 0  1 29 38  4]\n",
      " [14 13  1 38 12]\n",
      " [12 40 35 13 15]\n",
      " [28 30  3 11 29]\n",
      " [ 3  2 40 16  5]] \n",
      "\n",
      " Correct labels: \n",
      "\n",
      " [0, 14, 12, 28, 3]\n"
     ]
    }
   ],
   "source": [
    "# The top 5 softmax probabilities for the predictions on the German traffic sign images found on the web. \n",
    "predicted_labels = tf.nn.softmax(logits)\n",
    "\n",
    "def Top_5(X_data):\n",
    "    sess = tf.get_default_session()\n",
    "    pred = sess.run(tf.nn.top_k(predicted_labels, k = 5), feed_dict={x: X_data, keep_prob: 1.0})\n",
    "    return pred\n",
    "\n",
    "with tf.Session() as sess:\n",
    "    saver.restore(sess, tf.train.latest_checkpoint('.'))\n",
    "    top = Top_5(X_5)\n",
    "print('Top 5 Probabilities for the prediciton: \\n\\n {} \\n\\n Top 5 labels for the prediction: \\n\\n {} \\n\\n \\\n",
    "Correct labels: \\n\\n {}'.format(top[0].round(2), top[1], Labels_5))"
   ]
  },
  {
   "cell_type": "markdown",
   "metadata": {},
   "source": [
    "# **Traffic Sign Recognition** \n",
    "\n",
    "---\n",
    "\n",
    "**Build a Traffic Sign Recognition Project**\n",
    "\n",
    "The goals / steps of this project are the following:\n",
    "* Load the data set (see below for links to the project data set)\n",
    "* Explore, summarize and visualize the data set\n",
    "* Design, train and test a model architecture\n",
    "* Use the model to make predictions on new images\n",
    "* Analyze the softmax probabilities of the new images\n",
    "* Summarize the results with a written report\n",
    "\n",
    "\n",
    "[//]: # (Image References)\n",
    "\n",
    "[image1]: ./examples/stat.png \"Statistics\"\n",
    "[image2]: ./examples/image_before.png \"Image before\"\n",
    "[image3]: ./examples/image_after.png \"Image after\"\n",
    "[image4]: ./examples/new_images.png  \"New\"\n",
    "[image5]: ./examples/placeholder.png \"Traffic Sign 2\"\n",
    "[image6]: ./examples/placeholder.png \"Traffic Sign 3\"\n",
    "[image7]: ./examples/placeholder.png \"Traffic Sign 4\"\n",
    "[image8]: ./examples/placeholder.png \"Traffic Sign 5\"\n",
    "\n",
    "## Rubric Points\n",
    "\n",
    "### Data Set Summary & Exploration\n",
    "\n",
    "#### 1. A basic summary of the data set.\n",
    "\n",
    "The code for this step is contained in the 3d code cell of the IPython notebook.  \n",
    "\n",
    "I used the pandas library to calculate summary statistics of the traffic\n",
    "signs data set:\n",
    "\n",
    "* Number of training examples = 34799\n",
    "* Number of testing examples = 12630\n",
    "* Image data shape = (32, 32, 3)\n",
    "* Number of classes = 43\n",
    "\n",
    "#### 2. Exploratory visualization of the dataset.\n",
    "\n",
    "The code for this step is contained in the 5th code cell of the IPython notebook.  \n",
    "\n",
    "Here is an exploratory visualization of the data set. It is a bar chart showing how the data is distributed. We see that the distribution is uneven.\n",
    "\n",
    "![alt text][image1]\n",
    "\n",
    "Trafic signs summary statistics:\n",
    "count      43.0\n",
    "mean      809.0\n",
    "std       627.0\n",
    "min       180.0\n",
    "50%       540.0\n",
    "max      2010.0\n",
    "\n",
    "### Design and Test a Model Architecture\n",
    "\n",
    "#### 1. Pre-processing refers to techniques such as converting to grayscale, normalization, etc.\n",
    "\n",
    "The code for this step is contained in the 6-9 code cells of the IPython notebook.\n",
    "\n",
    "As a first step, I decided to convert the images to grayscale because the image color is not important.\n",
    "Also, I decided to implement normalisation, dividing the image by 255.\n",
    "\n",
    "Here is an example of a traffic sign image before grayscaling with normalisation.\n",
    "![alt text][image2]\n",
    "\n",
    "Here is an examples of a traffic sign image after grayscaling with normalisation. I tried different normalisation (diving by 255 and dividing by 128 after subtraction 128).\n",
    "![alt text][image3]\n",
    "\n",
    "#### 2. Describe how, and identify where in your code, you set up training, validation and testing data. How much data was in each set? Explain what techniques were used to split the data into these sets. (OPTIONAL: As described in the \"Stand Out Suggestions\" part of the rubric, if you generated additional data for training, describe why you decided to generate additional data, how you generated the data, identify where in your code, and provide example images of the additional data)\n",
    "\n",
    "The code for splitting the data into training and validation sets is contained in the 3d code cell of the IPython notebook.  \n",
    "\n",
    "My final training set had 34799 number of images. My validation set and test set had 4410 and 12630 number of images.\n",
    "\n",
    "#### 3. Final model architecture.\n",
    "\n",
    "The code for my final model is located in the 11th cell of the ipython notebook. \n",
    "\n",
    "My final model consisted of the following layers:\n",
    "\n",
    "| Layer         \t\t|     Description\t        \t\t\t\t\t| \n",
    "|:---------------------:|:---------------------------------------------:| \n",
    "| Input         \t\t| 32x32x1 RGB image   \t\t\t\t\t\t\t| \n",
    "| Convolution 3x3     \t| 1x1 stride, valid padding, outputs 30x30x10 \t|\n",
    "| RELU\t\t\t\t\t|\t\t\t\t\t\t\t\t\t\t\t\t|\n",
    "| Max pooling\t      \t| 2x2 stride,  outputs 15x15x10 \t\t\t\t|\n",
    "| Convolution 4x4\t    | 1x1 stride, valid padding, outputs 12x12x30   |\n",
    "| RELU\t\t\t\t\t|\t\t\t\t\t\t\t\t\t\t\t\t|\n",
    "| Max pooling\t      \t| 2x2 stride,  outputs 6x6x30   \t\t\t\t|\n",
    "| Dropout               | Keep prob 50%                                 |\n",
    "| Flatten               | Output 1080                                   |\n",
    "| Fully connected\t\t| Output 270 \t\t\t\t\t\t\t\t\t|\n",
    "| RELU\t\t\t\t\t|\t\t\t\t\t\t\t\t\t\t\t\t|\n",
    "| Fully connected\t\t| Output 129 \t\t\t\t\t\t\t\t\t|\n",
    "| RELU\t\t\t\t\t|\t\t\t\t\t\t\t\t\t\t\t\t|\n",
    "| Fully connected\t\t| Output 43 \t\t\t\t\t\t\t\t\t|\n",
    "| Softmax\t\t\t\t|            \t\t\t\t\t\t\t\t\t|\n",
    "\n",
    "\n",
    "#### 4. Training model. \n",
    "\n",
    "The code for training the model is located in the 12-15 cells of the ipython notebook. \n",
    "\n",
    "To train the model, I used an AdamOptimizer\n",
    "\n",
    "#### 5.The approach taken for finding a solution.\n",
    "The code for calculating the accuracy of the model is located in the 15-16 cells of the Ipython notebook.\n",
    "\n",
    "My final model results were:\n",
    "* validation set accuracy of 0.946 \n",
    "* test set accuracy of 0.942\n",
    "\n",
    "Steps to find final approach:\n",
    "* The first architecture that I was tried was LeNet Architecture. Sign recognition is similar to MNIST case, so i decided to try it. \n",
    "* LeNet was pretty good but validation accuracy was less than 90%. So, I decided to amanden it.\n",
    "* I tryed dfferent approaches: to include/exclude colors, to add more layers and etc. But the model was overfitting. So, I decided to stay with LeNet architecture, but to increase nubmer of neurons in layers 3-4 times because we have more number of labels than in MNIST data (43 vs 10) and to protect model from overfitting I decided to add dropout after 2nd convolution layer with 50% keep ratio. It helped to increace accuracy to 94%. \n",
    "* Also, in the future I want to increase number of obervation by adding to the trainig sample modified images (by different angles, noice and etc.) Now i don't know how to do it: by TF functionality or with other libraries. And because label distribution is far away from perfect I want to statify development sample - I think it will help better reconize rare trafic signes.\n",
    "\n",
    "### Test a Model on New Images\n",
    "\n",
    "#### 1. New five German traffic signs found on the web.\n",
    "\n",
    "Here are five German traffic signs that I found on the web. They were in a much bigger resolution so, I used TF *tf.image.resize_nearest_neighbor* function to resize them to (32, 32) format.\n",
    "\n",
    "![alt text][image4]\n",
    "\n",
    "#### 2. Model's predictions on the new traffic signs.\n",
    "\n",
    "The code for making predictions on my final model is located in the tenth 17-24 cells of the Ipython notebook.\n",
    "\n",
    "Here are the results of the prediction:\n",
    "\n",
    "| Image\t\t\t        |     Prediction\t        \t\t\t\t\t| \n",
    "|:---------------------:|:---------------------------------------------:| \n",
    "| Speed limit (100km/h) | Speed limit (100km/h)  \t\t\t\t\t\t| \n",
    "| Stop Sign    \t\t\t| Stop Sign \t\t\t\t\t\t\t\t\t|\n",
    "| Priority road\t\t\t| Priority road\t\t\t\t\t\t\t\t\t|\n",
    "| Children crossing\t\t| Children crossing\t     \t\t \t\t\t\t|\n",
    "| Speed limit (60km/h)  | Speed limit (60km/h) \t\t\t\t\t\t\t|\n",
    "\n",
    "\n",
    "The model was able to correctly guess 5 of the 5 traffic signs, which gives an accuracy of 100%. This compares favorably to the accuracy on the test set of 94.4%\n",
    "\n",
    "#### 3. Softmax probabilities for each prediction.\n",
    "\n",
    "The code for making predictions on my final model is located in the 24th cell of the Ipython notebook.\n",
    "As we see the model is pretty confidence with all five images.\n",
    "\n",
    "Top 5 Probabilities for the prediciton: \n",
    "\n",
    " | Image   |   Top-5 Probability      | \n",
    " |--------:|:------------------------:|\n",
    " | 1 image | 1.   0.   0.   0.   0.   |\n",
    " | 2 image | 1.   0.   0.   0.   0.   |\n",
    " | 3 image | 1.   0.   0.   0.   0.   |\n",
    " | 4 image | 1.   0.   0.   0.   0.   |\n",
    " | 5 image | 0.82 0.07 0.06 0.02 0.01 |\n",
    " \n",
    " Top 5 labels for the prediction: \n",
    " \n",
    " | Image   |Top-5 Pred. Lab.| \n",
    " |--------:|:--------------:|\n",
    " | 1 image |  0  1 29 38  4 |\n",
    " | 2 image | 14 13  1 38 12 |\n",
    " | 3 image | 12 40 35 13 15 |\n",
    " | 4 image | 28 30  3 11 29 |\n",
    " | 5 image |  3  2 40 16  5 | \n",
    "\n",
    " Correct labels: 0, 14, 12, 28, 3"
   ]
  },
  {
   "cell_type": "code",
   "execution_count": null,
   "metadata": {
    "collapsed": true
   },
   "outputs": [],
   "source": []
  }
 ],
 "metadata": {
  "anaconda-cloud": {},
  "kernelspec": {
   "display_name": "Python 3",
   "language": "python",
   "name": "python3"
  },
  "language_info": {
   "codemirror_mode": {
    "name": "ipython",
    "version": 3
   },
   "file_extension": ".py",
   "mimetype": "text/x-python",
   "name": "python",
   "nbconvert_exporter": "python",
   "pygments_lexer": "ipython3",
   "version": "3.6.5"
  },
  "widgets": {
   "state": {},
   "version": "1.1.2"
  }
 },
 "nbformat": 4,
 "nbformat_minor": 1
}
